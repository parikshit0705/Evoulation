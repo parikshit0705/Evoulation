{
 "cells": [
  {
   "cell_type": "code",
   "execution_count": 1,
   "id": "e1f69173-4a0b-4a13-996f-c3fa6955b09f",
   "metadata": {},
   "outputs": [],
   "source": [
    "p = ['parikshit',87.87,2,3,4,8+9j,True,]"
   ]
  },
  {
   "cell_type": "code",
   "execution_count": 2,
   "id": "cb430704-c3ed-4e67-8cae-d1e7ddf25e84",
   "metadata": {},
   "outputs": [
    {
     "data": {
      "text/plain": [
       "['parikshit', 87.87, 2, 3, 4, (8+9j), True]"
      ]
     },
     "execution_count": 2,
     "metadata": {},
     "output_type": "execute_result"
    }
   ],
   "source": [
    "p"
   ]
  },
  {
   "cell_type": "code",
   "execution_count": 3,
   "id": "4d77e9ec-a90c-4ff1-b878-5ad186a2d93f",
   "metadata": {},
   "outputs": [
    {
     "data": {
      "text/plain": [
       "list"
      ]
     },
     "execution_count": 3,
     "metadata": {},
     "output_type": "execute_result"
    }
   ],
   "source": [
    "type(p)"
   ]
  },
  {
   "cell_type": "code",
   "execution_count": 4,
   "id": "ecd20d0a-ce2e-4df7-a006-684596cf6639",
   "metadata": {},
   "outputs": [
    {
     "data": {
      "text/plain": [
       "'parikshit'"
      ]
     },
     "execution_count": 4,
     "metadata": {},
     "output_type": "execute_result"
    }
   ],
   "source": [
    "p[0]"
   ]
  },
  {
   "cell_type": "code",
   "execution_count": 5,
   "id": "62803ca2-4786-4025-8ac4-d38ac3ad0dce",
   "metadata": {},
   "outputs": [
    {
     "data": {
      "text/plain": [
       "['parikshit', 2, 4, True]"
      ]
     },
     "execution_count": 5,
     "metadata": {},
     "output_type": "execute_result"
    }
   ],
   "source": [
    "p[0:8:2]"
   ]
  },
  {
   "cell_type": "code",
   "execution_count": 7,
   "id": "12c95438-7fae-4962-9db2-433e21615d6a",
   "metadata": {},
   "outputs": [
    {
     "data": {
      "text/plain": [
       "[True, (8+9j), 4, 3, 2, 87.87, 'parikshit']"
      ]
     },
     "execution_count": 7,
     "metadata": {},
     "output_type": "execute_result"
    }
   ],
   "source": [
    "p[::-1]"
   ]
  },
  {
   "cell_type": "code",
   "execution_count": 16,
   "id": "4eb5f209-9f6d-4a47-9bc7-6878f8bfbaf8",
   "metadata": {},
   "outputs": [
    {
     "data": {
      "text/plain": [
       "['parikshit', 4]"
      ]
     },
     "execution_count": 16,
     "metadata": {},
     "output_type": "execute_result"
    }
   ],
   "source": [
    "p[0:7:4]"
   ]
  },
  {
   "cell_type": "code",
   "execution_count": 9,
   "id": "f2cee87e-c654-4cbe-a532-6c3492c32e8b",
   "metadata": {},
   "outputs": [
    {
     "data": {
      "text/plain": [
       "['parikshit', 87.87, 2, 3, 4, (8+9j), True]"
      ]
     },
     "execution_count": 9,
     "metadata": {},
     "output_type": "execute_result"
    }
   ],
   "source": [
    "p"
   ]
  },
  {
   "cell_type": "code",
   "execution_count": 18,
   "id": "493f205a-027d-4fa9-8bfd-dc268f30c190",
   "metadata": {},
   "outputs": [
    {
     "data": {
      "text/plain": [
       "-1"
      ]
     },
     "execution_count": 18,
     "metadata": {},
     "output_type": "execute_result"
    }
   ],
   "source": [
    "p[-1]"
   ]
  },
  {
   "cell_type": "code",
   "execution_count": 23,
   "id": "998743c3-2539-41e6-983c-8f3519907b8e",
   "metadata": {},
   "outputs": [],
   "source": [
    "p = [1,345,34,'parikshit',True,8+9j,223.45]"
   ]
  },
  {
   "cell_type": "code",
   "execution_count": 24,
   "id": "cb33e9f0-eb88-4153-aa2d-fe05f070d659",
   "metadata": {},
   "outputs": [
    {
     "data": {
      "text/plain": [
       "[1, 345, 34, 'parikshit', True, (8+9j), 223.45]"
      ]
     },
     "execution_count": 24,
     "metadata": {},
     "output_type": "execute_result"
    }
   ],
   "source": [
    "p"
   ]
  },
  {
   "cell_type": "code",
   "execution_count": 25,
   "id": "a79c7460-4e81-4ea9-890e-f390d335fd6b",
   "metadata": {},
   "outputs": [
    {
     "data": {
      "text/plain": [
       "[1, 34, True, 223.45]"
      ]
     },
     "execution_count": 25,
     "metadata": {},
     "output_type": "execute_result"
    }
   ],
   "source": [
    "p[::2]"
   ]
  },
  {
   "cell_type": "code",
   "execution_count": 26,
   "id": "c498bd24-1b83-4d9a-b311-25ddb0be012d",
   "metadata": {},
   "outputs": [
    {
     "data": {
      "text/plain": [
       "[1, 345, 34, 'parikshit', True, (8+9j), 223.45]"
      ]
     },
     "execution_count": 26,
     "metadata": {},
     "output_type": "execute_result"
    }
   ],
   "source": [
    "p"
   ]
  },
  {
   "cell_type": "code",
   "execution_count": 27,
   "id": "5a337fa5-4e38-4a4f-8858-6bc7cbed870a",
   "metadata": {},
   "outputs": [],
   "source": [
    "s = 'parikshit'"
   ]
  },
  {
   "cell_type": "code",
   "execution_count": 31,
   "id": "788220f6-3fbd-4954-86fc-2096a2d818af",
   "metadata": {},
   "outputs": [
    {
     "data": {
      "text/plain": [
       "['p',\n",
       " 'a',\n",
       " 'r',\n",
       " 'i',\n",
       " 'k',\n",
       " 's',\n",
       " 'h',\n",
       " 'i',\n",
       " 't',\n",
       " 1,\n",
       " 345,\n",
       " 34,\n",
       " 'parikshit',\n",
       " True,\n",
       " (8+9j),\n",
       " 223.45]"
      ]
     },
     "execution_count": 31,
     "metadata": {},
     "output_type": "execute_result"
    }
   ],
   "source": [
    "list(s) + p"
   ]
  },
  {
   "cell_type": "code",
   "execution_count": 32,
   "id": "02862316-dadb-4f43-8f2a-2db4242c786d",
   "metadata": {},
   "outputs": [
    {
     "data": {
      "text/plain": [
       "[1, 345, 34, 'parikshit', True, (8+9j), 223.45]"
      ]
     },
     "execution_count": 32,
     "metadata": {},
     "output_type": "execute_result"
    }
   ],
   "source": [
    "p"
   ]
  },
  {
   "cell_type": "code",
   "execution_count": 34,
   "id": "bafc343a-4b7c-43a2-b277-8891e01fc5a4",
   "metadata": {},
   "outputs": [
    {
     "data": {
      "text/plain": [
       "'pa'"
      ]
     },
     "execution_count": 34,
     "metadata": {},
     "output_type": "execute_result"
    }
   ],
   "source": [
    "p[3][0:2]"
   ]
  },
  {
   "cell_type": "code",
   "execution_count": 37,
   "id": "3c9e5b8b-b87e-4488-9bc4-f512296674a8",
   "metadata": {},
   "outputs": [
    {
     "data": {
      "text/plain": [
       "True"
      ]
     },
     "execution_count": 37,
     "metadata": {},
     "output_type": "execute_result"
    }
   ],
   "source": [
    "p[4]"
   ]
  },
  {
   "cell_type": "code",
   "execution_count": 39,
   "id": "7fa4494b-65ca-428b-b01e-ae837767e27e",
   "metadata": {},
   "outputs": [
    {
     "data": {
      "text/plain": [
       "'Tr'"
      ]
     },
     "execution_count": 39,
     "metadata": {},
     "output_type": "execute_result"
    }
   ],
   "source": [
    "str(p[4])[0:2]"
   ]
  },
  {
   "cell_type": "code",
   "execution_count": 56,
   "id": "8373d7f7-081d-4a23-af68-b85ad80fdda9",
   "metadata": {},
   "outputs": [],
   "source": [
    "l = [23,8+9j,233234.434,True,'pari']"
   ]
  },
  {
   "cell_type": "code",
   "execution_count": 57,
   "id": "0dc22760-409e-4c8c-a298-bdc21c4feb7a",
   "metadata": {},
   "outputs": [
    {
     "data": {
      "text/plain": [
       "[23, (8+9j), 233234.434, True, 'pari']"
      ]
     },
     "execution_count": 57,
     "metadata": {},
     "output_type": "execute_result"
    }
   ],
   "source": [
    "l"
   ]
  },
  {
   "cell_type": "code",
   "execution_count": 58,
   "id": "cae6d77f-8625-4c85-8761-5d2d49640f00",
   "metadata": {},
   "outputs": [
    {
     "data": {
      "text/plain": [
       "[1,\n",
       " 345,\n",
       " 34,\n",
       " 'parikshit',\n",
       " True,\n",
       " (8+9j),\n",
       " 223.45,\n",
       " 23,\n",
       " (8+9j),\n",
       " 233234.434,\n",
       " True,\n",
       " 'pari']"
      ]
     },
     "execution_count": 58,
     "metadata": {},
     "output_type": "execute_result"
    }
   ],
   "source": [
    "p+l"
   ]
  },
  {
   "cell_type": "code",
   "execution_count": 59,
   "id": "d0613f4d-2d01-4aeb-92fc-1726ed4f4945",
   "metadata": {},
   "outputs": [
    {
     "data": {
      "text/plain": [
       "[1,\n",
       " 345,\n",
       " 34,\n",
       " 'parikshit',\n",
       " True,\n",
       " (8+9j),\n",
       " 223.45,\n",
       " 1,\n",
       " 345,\n",
       " 34,\n",
       " 'parikshit',\n",
       " True,\n",
       " (8+9j),\n",
       " 223.45,\n",
       " 1,\n",
       " 345,\n",
       " 34,\n",
       " 'parikshit',\n",
       " True,\n",
       " (8+9j),\n",
       " 223.45]"
      ]
     },
     "execution_count": 59,
     "metadata": {},
     "output_type": "execute_result"
    }
   ],
   "source": [
    "p*3"
   ]
  },
  {
   "cell_type": "code",
   "execution_count": 60,
   "id": "5d7c7947-1ae5-4900-9894-1a2dca4d31ba",
   "metadata": {},
   "outputs": [
    {
     "data": {
      "text/plain": [
       "5"
      ]
     },
     "execution_count": 60,
     "metadata": {},
     "output_type": "execute_result"
    }
   ],
   "source": [
    "len(l)"
   ]
  },
  {
   "cell_type": "code",
   "execution_count": 61,
   "id": "aaa778ae-865e-491f-9a82-8c2afce62d9f",
   "metadata": {},
   "outputs": [
    {
     "data": {
      "text/plain": [
       "[23, (8+9j), 233234.434, True, 'pari']"
      ]
     },
     "execution_count": 61,
     "metadata": {},
     "output_type": "execute_result"
    }
   ],
   "source": [
    "l"
   ]
  },
  {
   "cell_type": "code",
   "execution_count": 62,
   "id": "5b39ccbf-ffbe-4cde-8f98-d230868a4a60",
   "metadata": {},
   "outputs": [],
   "source": [
    "l.append(5)"
   ]
  },
  {
   "cell_type": "code",
   "execution_count": 63,
   "id": "b1a9f77b-72b9-497d-a72d-d51a1a937903",
   "metadata": {},
   "outputs": [
    {
     "data": {
      "text/plain": [
       "[23, (8+9j), 233234.434, True, 'pari', 5]"
      ]
     },
     "execution_count": 63,
     "metadata": {},
     "output_type": "execute_result"
    }
   ],
   "source": [
    "l"
   ]
  },
  {
   "cell_type": "code",
   "execution_count": 64,
   "id": "222834d8-769e-4227-b054-2ae1e44bb7f4",
   "metadata": {},
   "outputs": [],
   "source": [
    "l.append(True)"
   ]
  },
  {
   "cell_type": "code",
   "execution_count": 65,
   "id": "e777cc63-b22f-468e-bff6-1fb76b72a1be",
   "metadata": {},
   "outputs": [
    {
     "data": {
      "text/plain": [
       "[23, (8+9j), 233234.434, True, 'pari', 5, True]"
      ]
     },
     "execution_count": 65,
     "metadata": {},
     "output_type": "execute_result"
    }
   ],
   "source": [
    "l"
   ]
  },
  {
   "cell_type": "code",
   "execution_count": 66,
   "id": "a9a06186-b865-4d45-85b8-226b3adcc818",
   "metadata": {},
   "outputs": [
    {
     "data": {
      "text/plain": [
       "7"
      ]
     },
     "execution_count": 66,
     "metadata": {},
     "output_type": "execute_result"
    }
   ],
   "source": [
    "len(l)"
   ]
  },
  {
   "cell_type": "code",
   "execution_count": 67,
   "id": "a58ce9bb-5d6c-4bd1-9701-2705fe977b1c",
   "metadata": {},
   "outputs": [
    {
     "data": {
      "text/plain": [
       "'parikshit'"
      ]
     },
     "execution_count": 67,
     "metadata": {},
     "output_type": "execute_result"
    }
   ],
   "source": [
    "s"
   ]
  },
  {
   "cell_type": "code",
   "execution_count": 68,
   "id": "d172bbb5-32d8-4184-af68-b35caacd518b",
   "metadata": {},
   "outputs": [],
   "source": [
    "l.append(s)"
   ]
  },
  {
   "cell_type": "code",
   "execution_count": 69,
   "id": "87ff9696-69c1-4a99-9142-d994882b0d45",
   "metadata": {},
   "outputs": [
    {
     "data": {
      "text/plain": [
       "[23, (8+9j), 233234.434, True, 'pari', 5, True, 'parikshit']"
      ]
     },
     "execution_count": 69,
     "metadata": {},
     "output_type": "execute_result"
    }
   ],
   "source": [
    "l"
   ]
  },
  {
   "cell_type": "code",
   "execution_count": 70,
   "id": "c7d7ae10-8d14-4174-89e6-1d1729409dcb",
   "metadata": {},
   "outputs": [
    {
     "data": {
      "text/plain": [
       "[1, 345, 34, 'parikshit', True, (8+9j), 223.45]"
      ]
     },
     "execution_count": 70,
     "metadata": {},
     "output_type": "execute_result"
    }
   ],
   "source": [
    "p"
   ]
  },
  {
   "cell_type": "code",
   "execution_count": 71,
   "id": "d9fdbf58-7457-4d7d-80c8-746dc5f8768e",
   "metadata": {},
   "outputs": [],
   "source": [
    "l.append(p)"
   ]
  },
  {
   "cell_type": "code",
   "execution_count": 72,
   "id": "5e0461bc-8f58-4363-b2c6-321d717c7bf5",
   "metadata": {},
   "outputs": [
    {
     "data": {
      "text/plain": [
       "[23,\n",
       " (8+9j),\n",
       " 233234.434,\n",
       " True,\n",
       " 'pari',\n",
       " 5,\n",
       " True,\n",
       " 'parikshit',\n",
       " [1, 345, 34, 'parikshit', True, (8+9j), 223.45]]"
      ]
     },
     "execution_count": 72,
     "metadata": {},
     "output_type": "execute_result"
    }
   ],
   "source": [
    "l"
   ]
  },
  {
   "cell_type": "code",
   "execution_count": 75,
   "id": "174df96c-5e22-44b8-a9b7-9d72e8a56044",
   "metadata": {},
   "outputs": [
    {
     "data": {
      "text/plain": [
       "1"
      ]
     },
     "execution_count": 75,
     "metadata": {},
     "output_type": "execute_result"
    }
   ],
   "source": [
    "l[-1][0]"
   ]
  },
  {
   "cell_type": "code",
   "execution_count": 77,
   "id": "3e2259c6-fec8-49fc-80ad-c0b9bcef7ed6",
   "metadata": {},
   "outputs": [
    {
     "data": {
      "text/plain": [
       "[23,\n",
       " (8+9j),\n",
       " 233234.434,\n",
       " True,\n",
       " 'pari',\n",
       " 5,\n",
       " True,\n",
       " 'parikshit',\n",
       " [1, 345, 34, 'parikshit', True, (8+9j), 223.45]]"
      ]
     },
     "execution_count": 77,
     "metadata": {},
     "output_type": "execute_result"
    }
   ],
   "source": [
    "l"
   ]
  },
  {
   "cell_type": "code",
   "execution_count": 80,
   "id": "c5d0c8dc-cbfd-4538-be9d-059b40906179",
   "metadata": {},
   "outputs": [],
   "source": [
    "l.extend('parikshit')"
   ]
  },
  {
   "cell_type": "code",
   "execution_count": 81,
   "id": "bda8e697-2176-414f-b3d1-1fb63b76ddf7",
   "metadata": {},
   "outputs": [
    {
     "data": {
      "text/plain": [
       "[23,\n",
       " (8+9j),\n",
       " 233234.434,\n",
       " True,\n",
       " 'pari',\n",
       " 5,\n",
       " True,\n",
       " 'parikshit',\n",
       " [1, 345, 34, 'parikshit', True, (8+9j), 223.45],\n",
       " 1,\n",
       " 345,\n",
       " 34,\n",
       " 'parikshit',\n",
       " True,\n",
       " (8+9j),\n",
       " 223.45,\n",
       " 'p',\n",
       " 'a',\n",
       " 'r',\n",
       " 'i',\n",
       " 'k',\n",
       " 's',\n",
       " 'h',\n",
       " 'i',\n",
       " 't']"
      ]
     },
     "execution_count": 81,
     "metadata": {},
     "output_type": "execute_result"
    }
   ],
   "source": [
    "l"
   ]
  },
  {
   "cell_type": "code",
   "execution_count": 88,
   "id": "04261bf4-4db9-4867-b85f-346d9fdc359f",
   "metadata": {},
   "outputs": [],
   "source": [
    "l.extend([3,4,5])"
   ]
  },
  {
   "cell_type": "code",
   "execution_count": 89,
   "id": "2b37029d-5347-416f-8fb0-abfb8c398804",
   "metadata": {},
   "outputs": [
    {
     "data": {
      "text/plain": [
       "[23,\n",
       " (8+9j),\n",
       " 233234.434,\n",
       " True,\n",
       " 'pari',\n",
       " 5,\n",
       " True,\n",
       " 'parikshit',\n",
       " [1, 345, 34, 'parikshit', True, (8+9j), 223.45],\n",
       " 1,\n",
       " 345,\n",
       " 34,\n",
       " 'parikshit',\n",
       " True,\n",
       " (8+9j),\n",
       " 223.45,\n",
       " 'p',\n",
       " 'a',\n",
       " 'r',\n",
       " 'i',\n",
       " 'k',\n",
       " 's',\n",
       " 'h',\n",
       " 'i',\n",
       " 't',\n",
       " 1,\n",
       " 345,\n",
       " 34,\n",
       " 'parikshit',\n",
       " True,\n",
       " (8+9j),\n",
       " 223.45,\n",
       " 3,\n",
       " 4,\n",
       " 5]"
      ]
     },
     "execution_count": 89,
     "metadata": {},
     "output_type": "execute_result"
    }
   ],
   "source": [
    "l"
   ]
  },
  {
   "cell_type": "code",
   "execution_count": 90,
   "id": "ec6d18a6-3c57-4e51-9374-4f51437e0213",
   "metadata": {},
   "outputs": [],
   "source": [
    "l.insert(2,True)"
   ]
  },
  {
   "cell_type": "code",
   "execution_count": 91,
   "id": "94e0a92a-6f6c-45ae-8dec-4cc188c96c3b",
   "metadata": {},
   "outputs": [
    {
     "data": {
      "text/plain": [
       "[23,\n",
       " (8+9j),\n",
       " True,\n",
       " 233234.434,\n",
       " True,\n",
       " 'pari',\n",
       " 5,\n",
       " True,\n",
       " 'parikshit',\n",
       " [1, 345, 34, 'parikshit', True, (8+9j), 223.45],\n",
       " 1,\n",
       " 345,\n",
       " 34,\n",
       " 'parikshit',\n",
       " True,\n",
       " (8+9j),\n",
       " 223.45,\n",
       " 'p',\n",
       " 'a',\n",
       " 'r',\n",
       " 'i',\n",
       " 'k',\n",
       " 's',\n",
       " 'h',\n",
       " 'i',\n",
       " 't',\n",
       " 1,\n",
       " 345,\n",
       " 34,\n",
       " 'parikshit',\n",
       " True,\n",
       " (8+9j),\n",
       " 223.45,\n",
       " 3,\n",
       " 4,\n",
       " 5]"
      ]
     },
     "execution_count": 91,
     "metadata": {},
     "output_type": "execute_result"
    }
   ],
   "source": [
    "l"
   ]
  },
  {
   "cell_type": "code",
   "execution_count": 92,
   "id": "d741db78-174a-4c52-a624-cc4714beca54",
   "metadata": {},
   "outputs": [],
   "source": [
    "l.insert(5,2)"
   ]
  },
  {
   "cell_type": "code",
   "execution_count": 93,
   "id": "9d324013-fb94-4abb-b522-fc8de9b47121",
   "metadata": {},
   "outputs": [
    {
     "data": {
      "text/plain": [
       "[23,\n",
       " (8+9j),\n",
       " True,\n",
       " 233234.434,\n",
       " True,\n",
       " 2,\n",
       " 'pari',\n",
       " 5,\n",
       " True,\n",
       " 'parikshit',\n",
       " [1, 345, 34, 'parikshit', True, (8+9j), 223.45],\n",
       " 1,\n",
       " 345,\n",
       " 34,\n",
       " 'parikshit',\n",
       " True,\n",
       " (8+9j),\n",
       " 223.45,\n",
       " 'p',\n",
       " 'a',\n",
       " 'r',\n",
       " 'i',\n",
       " 'k',\n",
       " 's',\n",
       " 'h',\n",
       " 'i',\n",
       " 't',\n",
       " 1,\n",
       " 345,\n",
       " 34,\n",
       " 'parikshit',\n",
       " True,\n",
       " (8+9j),\n",
       " 223.45,\n",
       " 3,\n",
       " 4,\n",
       " 5]"
      ]
     },
     "execution_count": 93,
     "metadata": {},
     "output_type": "execute_result"
    }
   ],
   "source": [
    "l"
   ]
  },
  {
   "cell_type": "code",
   "execution_count": 94,
   "id": "75ce9774-d27b-4fd9-a506-36398835e499",
   "metadata": {},
   "outputs": [],
   "source": [
    "l.insert(-1,45)"
   ]
  },
  {
   "cell_type": "code",
   "execution_count": 95,
   "id": "c8d65e71-ca6c-4618-92a5-3ef9e2e0d472",
   "metadata": {},
   "outputs": [
    {
     "data": {
      "text/plain": [
       "[23,\n",
       " (8+9j),\n",
       " True,\n",
       " 233234.434,\n",
       " True,\n",
       " 2,\n",
       " 'pari',\n",
       " 5,\n",
       " True,\n",
       " 'parikshit',\n",
       " [1, 345, 34, 'parikshit', True, (8+9j), 223.45],\n",
       " 1,\n",
       " 345,\n",
       " 34,\n",
       " 'parikshit',\n",
       " True,\n",
       " (8+9j),\n",
       " 223.45,\n",
       " 'p',\n",
       " 'a',\n",
       " 'r',\n",
       " 'i',\n",
       " 'k',\n",
       " 's',\n",
       " 'h',\n",
       " 'i',\n",
       " 't',\n",
       " 1,\n",
       " 345,\n",
       " 34,\n",
       " 'parikshit',\n",
       " True,\n",
       " (8+9j),\n",
       " 223.45,\n",
       " 3,\n",
       " 4,\n",
       " 45,\n",
       " 5]"
      ]
     },
     "execution_count": 95,
     "metadata": {},
     "output_type": "execute_result"
    }
   ],
   "source": [
    "l"
   ]
  },
  {
   "cell_type": "code",
   "execution_count": 96,
   "id": "e0ef1f8f-b79c-422d-9059-330d30225a1f",
   "metadata": {},
   "outputs": [
    {
     "data": {
      "text/plain": [
       "[1, 345, 34, 'parikshit', True, (8+9j), 223.45]"
      ]
     },
     "execution_count": 96,
     "metadata": {},
     "output_type": "execute_result"
    }
   ],
   "source": [
    "p"
   ]
  },
  {
   "cell_type": "code",
   "execution_count": 99,
   "id": "3642e0d0-7784-4806-9934-bb7afd94c2fd",
   "metadata": {},
   "outputs": [
    {
     "data": {
      "text/plain": [
       "'parikshit'"
      ]
     },
     "execution_count": 99,
     "metadata": {},
     "output_type": "execute_result"
    }
   ],
   "source": [
    "p.pop(3)"
   ]
  },
  {
   "cell_type": "code",
   "execution_count": 104,
   "id": "38a82f98-a0df-48e4-a069-50638a717ec1",
   "metadata": {},
   "outputs": [],
   "source": [
    "l1 =['sudh',12.343,45,True,6+4j]"
   ]
  },
  {
   "cell_type": "code",
   "execution_count": 105,
   "id": "40603007-8f2b-47e8-9980-d7114f44200a",
   "metadata": {},
   "outputs": [
    {
     "data": {
      "text/plain": [
       "['sudh', 12.343, 45, True, (6+4j)]"
      ]
     },
     "execution_count": 105,
     "metadata": {},
     "output_type": "execute_result"
    }
   ],
   "source": [
    "l1"
   ]
  },
  {
   "cell_type": "code",
   "execution_count": 106,
   "id": "9f6ba60a-f16d-483e-9eec-8082bf3a4a8a",
   "metadata": {},
   "outputs": [
    {
     "data": {
      "text/plain": [
       "(6+4j)"
      ]
     },
     "execution_count": 106,
     "metadata": {},
     "output_type": "execute_result"
    }
   ],
   "source": [
    "l1.pop()"
   ]
  },
  {
   "cell_type": "code",
   "execution_count": 107,
   "id": "8b70f3f9-ef47-42d0-a7bd-73a69d69f0be",
   "metadata": {},
   "outputs": [
    {
     "data": {
      "text/plain": [
       "['sudh', 12.343, 45, True]"
      ]
     },
     "execution_count": 107,
     "metadata": {},
     "output_type": "execute_result"
    }
   ],
   "source": [
    "l1"
   ]
  },
  {
   "cell_type": "code",
   "execution_count": 109,
   "id": "56f907dd-f011-4de4-851e-4484f644a9e9",
   "metadata": {},
   "outputs": [
    {
     "data": {
      "text/plain": [
       "True"
      ]
     },
     "execution_count": 109,
     "metadata": {},
     "output_type": "execute_result"
    }
   ],
   "source": [
    "l1.pop(3)"
   ]
  },
  {
   "cell_type": "code",
   "execution_count": 110,
   "id": "d5c3288f-29fd-4132-ae99-ec4619ab29c7",
   "metadata": {},
   "outputs": [
    {
     "data": {
      "text/plain": [
       "['sudh', 12.343, 45]"
      ]
     },
     "execution_count": 110,
     "metadata": {},
     "output_type": "execute_result"
    }
   ],
   "source": [
    "l1"
   ]
  },
  {
   "cell_type": "code",
   "execution_count": 111,
   "id": "761dc2cc-18f8-4627-b634-cbebecf45e47",
   "metadata": {},
   "outputs": [],
   "source": [
    " l1.remove(45)"
   ]
  },
  {
   "cell_type": "code",
   "execution_count": 112,
   "id": "0f1bdd51-fdae-45c0-9c76-27e2136714ea",
   "metadata": {},
   "outputs": [
    {
     "data": {
      "text/plain": [
       "['sudh', 12.343]"
      ]
     },
     "execution_count": 112,
     "metadata": {},
     "output_type": "execute_result"
    }
   ],
   "source": [
    "l1"
   ]
  },
  {
   "cell_type": "code",
   "execution_count": 113,
   "id": "9c38a97b-2c67-4a90-a5e8-842e256121fb",
   "metadata": {},
   "outputs": [],
   "source": [
    "l2 = [12,34,45.45,'float']"
   ]
  },
  {
   "cell_type": "code",
   "execution_count": 114,
   "id": "47c15567-691a-4db2-8fab-8b96b88ea015",
   "metadata": {},
   "outputs": [
    {
     "data": {
      "text/plain": [
       "['sudh', 12.343, 12, 34, 45.45, 'float']"
      ]
     },
     "execution_count": 114,
     "metadata": {},
     "output_type": "execute_result"
    }
   ],
   "source": [
    "l1+l2"
   ]
  },
  {
   "cell_type": "code",
   "execution_count": 115,
   "id": "73f989fc-9b49-4b2d-a272-20704760196c",
   "metadata": {},
   "outputs": [],
   "source": [
    "l1.append(l2)"
   ]
  },
  {
   "cell_type": "code",
   "execution_count": 116,
   "id": "b60b0c29-fd73-49be-865f-d27f9d49e77b",
   "metadata": {},
   "outputs": [
    {
     "data": {
      "text/plain": [
       "['sudh', 12.343, [12, 34, 45.45, 'float']]"
      ]
     },
     "execution_count": 116,
     "metadata": {},
     "output_type": "execute_result"
    }
   ],
   "source": [
    "l1"
   ]
  },
  {
   "cell_type": "code",
   "execution_count": 117,
   "id": "29971ed4-0090-4442-8408-3e9d6d8dffd4",
   "metadata": {},
   "outputs": [
    {
     "data": {
      "text/plain": [
       "[12, 34, 45.45, 'float']"
      ]
     },
     "execution_count": 117,
     "metadata": {},
     "output_type": "execute_result"
    }
   ],
   "source": [
    "l1[2]"
   ]
  },
  {
   "cell_type": "code",
   "execution_count": 118,
   "id": "b661a6ef-97f6-4f70-bf82-8437d9dd08aa",
   "metadata": {},
   "outputs": [],
   "source": [
    "l1[2].remove(34)"
   ]
  },
  {
   "cell_type": "code",
   "execution_count": 119,
   "id": "b6b17779-b818-4086-a82e-3b07895810fb",
   "metadata": {},
   "outputs": [
    {
     "data": {
      "text/plain": [
       "['sudh', 12.343, [12, 45.45, 'float']]"
      ]
     },
     "execution_count": 119,
     "metadata": {},
     "output_type": "execute_result"
    }
   ],
   "source": [
    "l1"
   ]
  },
  {
   "cell_type": "code",
   "execution_count": 120,
   "id": "b919b902-f7c4-44a8-a1d7-3b573a19e65c",
   "metadata": {},
   "outputs": [],
   "source": [
    "l1.append(5)"
   ]
  },
  {
   "cell_type": "code",
   "execution_count": 121,
   "id": "45929620-66ac-4a52-883e-5e662d3d7f03",
   "metadata": {},
   "outputs": [
    {
     "data": {
      "text/plain": [
       "['sudh', 12.343, [12, 45.45, 'float'], 5]"
      ]
     },
     "execution_count": 121,
     "metadata": {},
     "output_type": "execute_result"
    }
   ],
   "source": [
    "l1"
   ]
  },
  {
   "cell_type": "code",
   "execution_count": 123,
   "id": "41ad33e1-69f3-4cd6-a0fe-4d8159ab5a1e",
   "metadata": {},
   "outputs": [],
   "source": [
    "l1.remove(5)"
   ]
  },
  {
   "cell_type": "code",
   "execution_count": 124,
   "id": "9d6b6e98-0aee-4aa7-b88e-53f0f8c9a587",
   "metadata": {},
   "outputs": [
    {
     "data": {
      "text/plain": [
       "['sudh', 12.343, [12, 45.45, 'float']]"
      ]
     },
     "execution_count": 124,
     "metadata": {},
     "output_type": "execute_result"
    }
   ],
   "source": [
    "l1"
   ]
  },
  {
   "cell_type": "code",
   "execution_count": 126,
   "id": "598b2255-4d25-49dd-b8d1-ff0e10bdc39b",
   "metadata": {},
   "outputs": [],
   "source": [
    "l1.reverse()"
   ]
  },
  {
   "cell_type": "code",
   "execution_count": 127,
   "id": "f58e7dd0-df42-4cc8-b4b5-c81456a68a31",
   "metadata": {},
   "outputs": [
    {
     "data": {
      "text/plain": [
       "[[12, 45.45, 'float'], 12.343, 'sudh']"
      ]
     },
     "execution_count": 127,
     "metadata": {},
     "output_type": "execute_result"
    }
   ],
   "source": [
    "l1"
   ]
  },
  {
   "cell_type": "code",
   "execution_count": 128,
   "id": "133bbb28-22df-4253-90ba-a1ef335a9dc6",
   "metadata": {},
   "outputs": [
    {
     "data": {
      "text/plain": [
       "[[12, 45.45, 'float'], 12.343, 'sudh']"
      ]
     },
     "execution_count": 128,
     "metadata": {},
     "output_type": "execute_result"
    }
   ],
   "source": [
    "l1"
   ]
  },
  {
   "cell_type": "code",
   "execution_count": 130,
   "id": "44ece162-daca-442b-ace3-9d3e3ad69d78",
   "metadata": {},
   "outputs": [],
   "source": [
    "l1 = l1[::-1]"
   ]
  },
  {
   "cell_type": "code",
   "execution_count": 131,
   "id": "b840a408-7c16-4b3e-9a15-548864a3af06",
   "metadata": {},
   "outputs": [
    {
     "data": {
      "text/plain": [
       "['sudh', 12.343, [12, 45.45, 'float']]"
      ]
     },
     "execution_count": 131,
     "metadata": {},
     "output_type": "execute_result"
    }
   ],
   "source": [
    "l1"
   ]
  },
  {
   "cell_type": "code",
   "execution_count": 133,
   "id": "9911b012-e512-405b-92b3-664601e5660f",
   "metadata": {},
   "outputs": [],
   "source": [
    "k=[1,2,3,4,32,545,6,5,5,5,]"
   ]
  },
  {
   "cell_type": "code",
   "execution_count": 134,
   "id": "7a83e42a-dfee-4fa0-a550-cf8358762f14",
   "metadata": {},
   "outputs": [],
   "source": [
    "k.sort()"
   ]
  },
  {
   "cell_type": "code",
   "execution_count": 135,
   "id": "f4cd9e21-796a-429a-ade6-57588f191d77",
   "metadata": {},
   "outputs": [
    {
     "data": {
      "text/plain": [
       "[1, 2, 3, 4, 5, 5, 5, 6, 32, 545]"
      ]
     },
     "execution_count": 135,
     "metadata": {},
     "output_type": "execute_result"
    }
   ],
   "source": [
    "k"
   ]
  },
  {
   "cell_type": "code",
   "execution_count": 138,
   "id": "b526f91f-392f-45c2-9cdb-d411a5f4bb90",
   "metadata": {},
   "outputs": [],
   "source": [
    "k1= ['parikshit','sudh','kumar','monish',]"
   ]
  },
  {
   "cell_type": "code",
   "execution_count": 141,
   "id": "75f17375-47e6-4f4b-aca9-c91424f867d1",
   "metadata": {},
   "outputs": [],
   "source": [
    "k1.sort(reverse=True)"
   ]
  },
  {
   "cell_type": "code",
   "execution_count": 142,
   "id": "241d9d2c-6a6a-4a4b-9088-c54d13077d1d",
   "metadata": {},
   "outputs": [
    {
     "data": {
      "text/plain": [
       "['sudh', 'parikshit', 'monish', 'kumar']"
      ]
     },
     "execution_count": 142,
     "metadata": {},
     "output_type": "execute_result"
    }
   ],
   "source": [
    "k1"
   ]
  },
  {
   "cell_type": "code",
   "execution_count": 143,
   "id": "c41d4a71-331e-4821-99db-090bb98abcff",
   "metadata": {},
   "outputs": [
    {
     "data": {
      "text/plain": [
       "0"
      ]
     },
     "execution_count": 143,
     "metadata": {},
     "output_type": "execute_result"
    }
   ],
   "source": [
    "k1.index('sudh')"
   ]
  },
  {
   "cell_type": "code",
   "execution_count": 144,
   "id": "e23bb3df-9488-4b74-882b-80e58edf883a",
   "metadata": {},
   "outputs": [
    {
     "data": {
      "text/plain": [
       "1"
      ]
     },
     "execution_count": 144,
     "metadata": {},
     "output_type": "execute_result"
    }
   ],
   "source": [
    "k1.count('sudh')"
   ]
  },
  {
   "cell_type": "code",
   "execution_count": 145,
   "id": "89d72ab5-b717-4176-aabf-b604b201323e",
   "metadata": {},
   "outputs": [],
   "source": [
    "i= 'king'"
   ]
  },
  {
   "cell_type": "code",
   "execution_count": 146,
   "id": "6faf2beb-cb61-4e94-94c9-b992f91299ee",
   "metadata": {},
   "outputs": [],
   "source": [
    "i1=[3,4,5,6]"
   ]
  },
  {
   "cell_type": "code",
   "execution_count": 154,
   "id": "e612f05f-1396-4ccb-8db0-f511912ec594",
   "metadata": {},
   "outputs": [],
   "source": [
    "i1[0]='8'"
   ]
  },
  {
   "cell_type": "code",
   "execution_count": 155,
   "id": "740ae90a-d1ca-4df7-8e77-a4425b6b014c",
   "metadata": {},
   "outputs": [
    {
     "data": {
      "text/plain": [
       "['8', 4, 5, 6]"
      ]
     },
     "execution_count": 155,
     "metadata": {},
     "output_type": "execute_result"
    }
   ],
   "source": [
    "i1"
   ]
  },
  {
   "cell_type": "code",
   "execution_count": 156,
   "id": "6e9aaffd-eff3-4c50-bf08-4e4cd08a647d",
   "metadata": {},
   "outputs": [
    {
     "data": {
      "text/plain": [
       "'king'"
      ]
     },
     "execution_count": 156,
     "metadata": {},
     "output_type": "execute_result"
    }
   ],
   "source": [
    "i"
   ]
  },
  {
   "cell_type": "code",
   "execution_count": 157,
   "id": "9ba614df-d7de-4e64-a96e-41030235d351",
   "metadata": {},
   "outputs": [
    {
     "data": {
      "text/plain": [
       "'sing'"
      ]
     },
     "execution_count": 157,
     "metadata": {},
     "output_type": "execute_result"
    }
   ],
   "source": [
    "i.replace('k' , 's')"
   ]
  },
  {
   "cell_type": "code",
   "execution_count": 158,
   "id": "bb73a9a3-c265-4702-a319-9fbe9fe7370d",
   "metadata": {},
   "outputs": [
    {
     "data": {
      "text/plain": [
       "'king'"
      ]
     },
     "execution_count": 158,
     "metadata": {},
     "output_type": "execute_result"
    }
   ],
   "source": [
    "i"
   ]
  },
  {
   "cell_type": "code",
   "execution_count": 159,
   "id": "1a7786db-b94f-49f5-9b61-e654ff402bbc",
   "metadata": {},
   "outputs": [],
   "source": [
    "t = (2,3,5,'sudh',45.56,False,45+57j)"
   ]
  },
  {
   "cell_type": "code",
   "execution_count": 160,
   "id": "3c4a55a7-693a-44da-9201-503c43c02721",
   "metadata": {},
   "outputs": [
    {
     "data": {
      "text/plain": [
       "(2, 3, 5, 'sudh', 45.56, False, (45+57j))"
      ]
     },
     "execution_count": 160,
     "metadata": {},
     "output_type": "execute_result"
    }
   ],
   "source": [
    "t"
   ]
  },
  {
   "cell_type": "code",
   "execution_count": 161,
   "id": "3e33d396-72c6-4f94-afd1-c13ec505430c",
   "metadata": {},
   "outputs": [
    {
     "data": {
      "text/plain": [
       "tuple"
      ]
     },
     "execution_count": 161,
     "metadata": {},
     "output_type": "execute_result"
    }
   ],
   "source": [
    "type(t)"
   ]
  },
  {
   "cell_type": "code",
   "execution_count": 162,
   "id": "1c70ab96-85cf-4017-99af-809848718320",
   "metadata": {},
   "outputs": [],
   "source": [
    "t = (2,3,5,'sudh',45.56,False,45+57j, [3,4,5])"
   ]
  },
  {
   "cell_type": "code",
   "execution_count": 163,
   "id": "51af7097-41bb-4366-bf17-991c3e237eb4",
   "metadata": {},
   "outputs": [
    {
     "data": {
      "text/plain": [
       "(2, 3, 5, 'sudh', 45.56, False, (45+57j), [3, 4, 5])"
      ]
     },
     "execution_count": 163,
     "metadata": {},
     "output_type": "execute_result"
    }
   ],
   "source": [
    "t"
   ]
  },
  {
   "cell_type": "code",
   "execution_count": 164,
   "id": "41877c4a-d38d-4bb1-a38b-47573e7acb33",
   "metadata": {},
   "outputs": [
    {
     "data": {
      "text/plain": [
       "tuple"
      ]
     },
     "execution_count": 164,
     "metadata": {},
     "output_type": "execute_result"
    }
   ],
   "source": [
    "type(t)"
   ]
  },
  {
   "cell_type": "code",
   "execution_count": 165,
   "id": "9955b729-509e-4b82-afc1-9f6ca0caa28a",
   "metadata": {},
   "outputs": [
    {
     "data": {
      "text/plain": [
       "8"
      ]
     },
     "execution_count": 165,
     "metadata": {},
     "output_type": "execute_result"
    }
   ],
   "source": [
    "len(t)"
   ]
  },
  {
   "cell_type": "code",
   "execution_count": 166,
   "id": "a9c41961-0e98-4074-897b-bc85400c4622",
   "metadata": {},
   "outputs": [
    {
     "data": {
      "text/plain": [
       "2"
      ]
     },
     "execution_count": 166,
     "metadata": {},
     "output_type": "execute_result"
    }
   ],
   "source": [
    "t[0]"
   ]
  },
  {
   "cell_type": "code",
   "execution_count": 167,
   "id": "854564b7-120b-4361-9d57-a093098cdda8",
   "metadata": {},
   "outputs": [
    {
     "data": {
      "text/plain": [
       "[3, 4, 5]"
      ]
     },
     "execution_count": 167,
     "metadata": {},
     "output_type": "execute_result"
    }
   ],
   "source": [
    "t[-1]"
   ]
  },
  {
   "cell_type": "code",
   "execution_count": 168,
   "id": "e2e6a288-dcc8-459c-a172-b9fe779a00f9",
   "metadata": {},
   "outputs": [
    {
     "data": {
      "text/plain": [
       "([3, 4, 5], (45+57j), False, 45.56, 'sudh', 5, 3, 2)"
      ]
     },
     "execution_count": 168,
     "metadata": {},
     "output_type": "execute_result"
    }
   ],
   "source": [
    "t[::-1]"
   ]
  },
  {
   "cell_type": "code",
   "execution_count": 170,
   "id": "9bc9a458-28c6-421f-a76f-26f0f089ff84",
   "metadata": {},
   "outputs": [
    {
     "data": {
      "text/plain": [
       "['sudh', 'parikshit', 'monish', 'kumar']"
      ]
     },
     "execution_count": 170,
     "metadata": {},
     "output_type": "execute_result"
    }
   ],
   "source": [
    "k1"
   ]
  },
  {
   "cell_type": "code",
   "execution_count": 172,
   "id": "1d07e6bb-5da1-4b18-a829-be1f9fb5ae49",
   "metadata": {},
   "outputs": [],
   "source": [
    "k1[0]=5875687"
   ]
  },
  {
   "cell_type": "code",
   "execution_count": 173,
   "id": "37bce122-7449-4691-b7ed-46e1a2d3f409",
   "metadata": {},
   "outputs": [
    {
     "data": {
      "text/plain": [
       "[5875687, 'parikshit', 'monish', 'kumar']"
      ]
     },
     "execution_count": 173,
     "metadata": {},
     "output_type": "execute_result"
    }
   ],
   "source": [
    "k1"
   ]
  },
  {
   "cell_type": "code",
   "execution_count": 175,
   "id": "79433053-0bc9-49de-ac6b-86f5947946fc",
   "metadata": {},
   "outputs": [
    {
     "data": {
      "text/plain": [
       "([3, 4, 5], (45+57j), False, 45.56, 'sudh', 5, 3, 2)"
      ]
     },
     "execution_count": 175,
     "metadata": {},
     "output_type": "execute_result"
    }
   ],
   "source": [
    "t[::-1]"
   ]
  },
  {
   "cell_type": "code",
   "execution_count": 178,
   "id": "fb3cedec-eac5-405c-9a75-3ccb9943e939",
   "metadata": {},
   "outputs": [
    {
     "data": {
      "text/plain": [
       "5"
      ]
     },
     "execution_count": 178,
     "metadata": {},
     "output_type": "execute_result"
    }
   ],
   "source": [
    "t.index(False)"
   ]
  },
  {
   "cell_type": "code",
   "execution_count": null,
   "id": "0b5833f2-ac7d-4e05-bf94-97850e54e288",
   "metadata": {},
   "outputs": [],
   "source": []
  }
 ],
 "metadata": {
  "kernelspec": {
   "display_name": "Python 3 (ipykernel)",
   "language": "python",
   "name": "python3"
  },
  "language_info": {
   "codemirror_mode": {
    "name": "ipython",
    "version": 3
   },
   "file_extension": ".py",
   "mimetype": "text/x-python",
   "name": "python",
   "nbconvert_exporter": "python",
   "pygments_lexer": "ipython3",
   "version": "3.10.8"
  }
 },
 "nbformat": 4,
 "nbformat_minor": 5
}
